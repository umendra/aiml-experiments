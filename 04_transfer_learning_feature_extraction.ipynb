{
  "nbformat": 4,
  "nbformat_minor": 0,
  "metadata": {
    "colab": {
      "provenance": [],
      "mount_file_id": "1kO_owh6PuDzoAbgRUTrGPeDPnIIeDZBf",
      "authorship_tag": "ABX9TyOSvTkxbI/Ij0BWHrvyoPim",
      "include_colab_link": true
    },
    "kernelspec": {
      "name": "python3",
      "display_name": "Python 3"
    },
    "language_info": {
      "name": "python"
    },
    "gpuClass": "standard",
    "accelerator": "GPU"
  },
  "cells": [
    {
      "cell_type": "markdown",
      "metadata": {
        "id": "view-in-github",
        "colab_type": "text"
      },
      "source": [
        "<a href=\"https://colab.research.google.com/github/umendra/aiml-experiments/blob/main/04_transfer_learning_feature_extraction.ipynb\" target=\"_parent\"><img src=\"https://colab.research.google.com/assets/colab-badge.svg\" alt=\"Open In Colab\"/></a>"
      ]
    },
    {
      "cell_type": "code",
      "execution_count": null,
      "metadata": {
        "colab": {
          "base_uri": "https://localhost:8080/"
        },
        "id": "Uo_BHCTRrwBj",
        "outputId": "36721f46-cfa8-47c8-e54e-4850dd4d570a"
      },
      "outputs": [
        {
          "output_type": "stream",
          "name": "stdout",
          "text": [
            "--2022-10-25 10:30:40--  https://storage.googleapis.com/ztm_tf_course/food_vision/10_food_classes_10_percent.zip\n",
            "Resolving storage.googleapis.com (storage.googleapis.com)... 74.125.141.128, 173.194.210.128, 173.194.211.128, ...\n",
            "Connecting to storage.googleapis.com (storage.googleapis.com)|74.125.141.128|:443... connected.\n",
            "HTTP request sent, awaiting response... 200 OK\n",
            "Length: 168546183 (161M) [application/zip]\n",
            "Saving to: ‘10_food_classes_10_percent.zip’\n",
            "\n",
            "10_food_classes_10_ 100%[===================>] 160.74M  53.6MB/s    in 3.0s    \n",
            "\n",
            "2022-10-25 10:30:43 (53.6 MB/s) - ‘10_food_classes_10_percent.zip’ saved [168546183/168546183]\n",
            "\n"
          ]
        }
      ],
      "source": [
        "# Get data (10% of labels)\n",
        "import zipfile\n",
        "\n",
        "# Download data\n",
        "!wget https://storage.googleapis.com/ztm_tf_course/food_vision/10_food_classes_10_percent.zip\n",
        "\n",
        "# Unzip the downloaded file\n",
        "zip_ref = zipfile.ZipFile(\"10_food_classes_10_percent.zip\", \"r\")\n",
        "zip_ref.extractall()\n",
        "zip_ref.close()"
      ]
    },
    {
      "cell_type": "markdown",
      "source": [
        "# New Section"
      ],
      "metadata": {
        "id": "rGAxBu3p0dhO"
      }
    },
    {
      "cell_type": "code",
      "source": [
        "!ls drive/MyDrive/Colab\\ Notebooks/data/images"
      ],
      "metadata": {
        "colab": {
          "base_uri": "https://localhost:8080/"
        },
        "id": "x-O43aAwsXuX",
        "outputId": "e4fb3dbc-4390-428b-808f-0345710942c5"
      },
      "execution_count": null,
      "outputs": [
        {
          "output_type": "stream",
          "name": "stdout",
          "text": [
            "10_food_classes_all_data  food-101  pizza_steak  test_pizza_steak\n"
          ]
        }
      ]
    },
    {
      "cell_type": "code",
      "source": [
        "!mv 10_food_classes_10_percent drive/MyDrive/Colab\\ Notebooks/data/images"
      ],
      "metadata": {
        "id": "RqE8PKoxstbB"
      },
      "execution_count": null,
      "outputs": []
    },
    {
      "cell_type": "code",
      "source": [
        "# How many images in each folder?\n",
        "import os\n",
        "\n",
        "# Walk through 10 percent data directory and list number of files\n",
        "ImageRootDir = \"drive/MyDrive/Colab Notebooks/data/images/10_food_classes_10_percent\"\n",
        "for dirpath, dirnames, filenames in os.walk(ImageRootDir):\n",
        "  print(f\"There are {len(dirnames)} directories and {len(filenames)} images in '{dirpath}'.\")"
      ],
      "metadata": {
        "id": "w0yMDlZDs66X",
        "colab": {
          "base_uri": "https://localhost:8080/"
        },
        "outputId": "ca3ff372-01f0-44fc-e9c9-b124df077510"
      },
      "execution_count": 2,
      "outputs": [
        {
          "output_type": "stream",
          "name": "stdout",
          "text": [
            "There are 2 directories and 0 images in 'drive/MyDrive/Colab Notebooks/data/images/10_food_classes_10_percent'.\n",
            "There are 10 directories and 0 images in 'drive/MyDrive/Colab Notebooks/data/images/10_food_classes_10_percent/train'.\n",
            "There are 0 directories and 75 images in 'drive/MyDrive/Colab Notebooks/data/images/10_food_classes_10_percent/train/pizza'.\n",
            "There are 0 directories and 75 images in 'drive/MyDrive/Colab Notebooks/data/images/10_food_classes_10_percent/train/ice_cream'.\n",
            "There are 0 directories and 75 images in 'drive/MyDrive/Colab Notebooks/data/images/10_food_classes_10_percent/train/ramen'.\n",
            "There are 0 directories and 75 images in 'drive/MyDrive/Colab Notebooks/data/images/10_food_classes_10_percent/train/chicken_curry'.\n",
            "There are 0 directories and 75 images in 'drive/MyDrive/Colab Notebooks/data/images/10_food_classes_10_percent/train/sushi'.\n",
            "There are 0 directories and 75 images in 'drive/MyDrive/Colab Notebooks/data/images/10_food_classes_10_percent/train/hamburger'.\n",
            "There are 0 directories and 75 images in 'drive/MyDrive/Colab Notebooks/data/images/10_food_classes_10_percent/train/chicken_wings'.\n",
            "There are 0 directories and 75 images in 'drive/MyDrive/Colab Notebooks/data/images/10_food_classes_10_percent/train/grilled_salmon'.\n",
            "There are 0 directories and 75 images in 'drive/MyDrive/Colab Notebooks/data/images/10_food_classes_10_percent/train/steak'.\n",
            "There are 0 directories and 75 images in 'drive/MyDrive/Colab Notebooks/data/images/10_food_classes_10_percent/train/fried_rice'.\n",
            "There are 10 directories and 0 images in 'drive/MyDrive/Colab Notebooks/data/images/10_food_classes_10_percent/test'.\n",
            "There are 0 directories and 250 images in 'drive/MyDrive/Colab Notebooks/data/images/10_food_classes_10_percent/test/chicken_curry'.\n",
            "There are 0 directories and 250 images in 'drive/MyDrive/Colab Notebooks/data/images/10_food_classes_10_percent/test/ice_cream'.\n",
            "There are 0 directories and 250 images in 'drive/MyDrive/Colab Notebooks/data/images/10_food_classes_10_percent/test/chicken_wings'.\n",
            "There are 0 directories and 250 images in 'drive/MyDrive/Colab Notebooks/data/images/10_food_classes_10_percent/test/steak'.\n",
            "There are 0 directories and 250 images in 'drive/MyDrive/Colab Notebooks/data/images/10_food_classes_10_percent/test/sushi'.\n",
            "There are 0 directories and 250 images in 'drive/MyDrive/Colab Notebooks/data/images/10_food_classes_10_percent/test/ramen'.\n",
            "There are 0 directories and 250 images in 'drive/MyDrive/Colab Notebooks/data/images/10_food_classes_10_percent/test/pizza'.\n",
            "There are 0 directories and 250 images in 'drive/MyDrive/Colab Notebooks/data/images/10_food_classes_10_percent/test/fried_rice'.\n",
            "There are 0 directories and 250 images in 'drive/MyDrive/Colab Notebooks/data/images/10_food_classes_10_percent/test/grilled_salmon'.\n",
            "There are 0 directories and 250 images in 'drive/MyDrive/Colab Notebooks/data/images/10_food_classes_10_percent/test/hamburger'.\n"
          ]
        }
      ]
    },
    {
      "cell_type": "markdown",
      "source": [
        "## Prepare Data - Load data from directory\n",
        "Setup data loader"
      ],
      "metadata": {
        "id": "fUd3stcQtqt8"
      }
    },
    {
      "cell_type": "code",
      "source": [
        "import tensorflow as tf\n",
        "from tensorflow.keras.preprocessing.image import ImageDataGenerator"
      ],
      "metadata": {
        "id": "kglqd3V81ffs"
      },
      "execution_count": 3,
      "outputs": []
    },
    {
      "cell_type": "code",
      "source": [
        "IMAGE_SHAPE = (224, 224)\n",
        "BATCH_SIZE = 32\n",
        "train_data_dir = os.path.join(ImageRootDir, \"train\")\n",
        "test_data_dir = os.path.join(ImageRootDir, \"test\")\n",
        "print(train_data_dir, test_data_dir)"
      ],
      "metadata": {
        "colab": {
          "base_uri": "https://localhost:8080/"
        },
        "id": "Npw5F1aX1-Mw",
        "outputId": "9bca4c3e-a5aa-4b3a-effc-8cb6a5674c55"
      },
      "execution_count": 4,
      "outputs": [
        {
          "output_type": "stream",
          "name": "stdout",
          "text": [
            "drive/MyDrive/Colab Notebooks/data/images/10_food_classes_10_percent/train drive/MyDrive/Colab Notebooks/data/images/10_food_classes_10_percent/test\n"
          ]
        }
      ]
    },
    {
      "cell_type": "code",
      "source": [
        "# Instantiate data generator. Provide rescale to make data in [0,1]\n",
        "train_data_gen = ImageDataGenerator(rescale=1/255)\n",
        "test_data_gen = ImageDataGenerator(rescale=1/255)\n",
        "\n",
        "# Load train and test data\n",
        "print(\"Loading training data ...\")\n",
        "train_data = train_data_gen.flow_from_directory(\n",
        "    train_data_dir,\n",
        "    target_size=IMAGE_SHAPE,\n",
        "    batch_size=BATCH_SIZE,\n",
        "    class_mode='categorical'\n",
        ")\n",
        "\n",
        "print('Loading test data ...')\n",
        "test_data = test_data_gen.flow_from_directory(\n",
        "    test_data_dir,\n",
        "    target_size=IMAGE_SHAPE,\n",
        "    batch_size=BATCH_SIZE,\n",
        "    class_mode='categorical'\n",
        ")"
      ],
      "metadata": {
        "colab": {
          "base_uri": "https://localhost:8080/"
        },
        "id": "CT56aU-aa4li",
        "outputId": "18fffcef-b273-4793-f841-d11fd4d11a38"
      },
      "execution_count": 5,
      "outputs": [
        {
          "output_type": "stream",
          "name": "stdout",
          "text": [
            "Loading training data ...\n",
            "Found 750 images belonging to 10 classes.\n",
            "Loading test data ...\n",
            "Found 2500 images belonging to 10 classes.\n"
          ]
        }
      ]
    },
    {
      "cell_type": "markdown",
      "source": [
        "## Add callbacks"
      ],
      "metadata": {
        "id": "Go4LDccYnt9f"
      }
    },
    {
      "cell_type": "code",
      "source": [
        "# Create tensorboard callback\n",
        "import datetime as dt\n",
        "\n",
        "def create_tensorboard_callback(dirname, experiment_name):\n",
        "  log_dir = dirname + \"/\" + experiment_name + \"/\" + dt.datetime.now().strftime('%Y%m%d-%H%M%S')\n",
        "  tensorboard_cb = tf.keras.callbacks.TensorBoard(log_dir=log_dir)\n",
        "  print(f\"Saving TensorBoard logs to {log_dir}\")\n",
        "  return tensorboard_cb\n"
      ],
      "metadata": {
        "id": "oKZTjvZkcrON"
      },
      "execution_count": 6,
      "outputs": []
    },
    {
      "cell_type": "markdown",
      "source": [
        "# Use tensorhub to load pretrained models\n",
        "\n",
        "We will use pretrained models to make most of our models."
      ],
      "metadata": {
        "id": "qBbK_ozQqKz4"
      }
    },
    {
      "cell_type": "code",
      "source": [
        "import tensorflow as tf\n",
        "import tensorflow_hub as hub\n",
        "from tensorflow.keras import layers"
      ],
      "metadata": {
        "id": "JFrESNP1qWN2"
      },
      "execution_count": 7,
      "outputs": []
    },
    {
      "cell_type": "code",
      "source": [
        "# URL of pre trained models\n",
        "resnet_v1_url = \"https://tfhub.dev/google/imagenet/resnet_v1_101/feature_vector/5\"\n",
        "efficient_model_url = \"https://tfhub.dev/tensorflow/efficientnet/b0/feature-vector/1\""
      ],
      "metadata": {
        "id": "nuUfakVUzHdW"
      },
      "execution_count": 8,
      "outputs": []
    },
    {
      "cell_type": "code",
      "source": [
        "# helper function to create a wrapper model for our learning\n",
        "def create_model(base_url, num_classes=10):\n",
        "  \"\"\"Takes a TensorFlow Hub URL and creates a Keras Sequential model with it.\n",
        "  \n",
        "  Args:\n",
        "    base_url (str): A TensorFlow Hub feature extraction URL.\n",
        "    num_classes (int): Number of output neurons in output layer,\n",
        "      should be equal to number of target classes, default 10.\n",
        "\n",
        "  Returns:\n",
        "    An uncompiled Keras Sequential model with base_url as feature\n",
        "    extractor layer and Dense output layer with num_classes outputs.\n",
        "  \"\"\"\n",
        "  # download the base model and use as feature extraction layer\n",
        "  feature_extraction_layer = hub.KerasLayer(\n",
        "      base_url,\n",
        "      trainable=False,\n",
        "      name=\"feature_extraction_layer\",\n",
        "      input_shape=IMAGE_SHAPE + (3,)\n",
        "  )\n",
        "\n",
        "  # Create our own model that uses above layer and an output layer\n",
        "  model = tf.keras.models.Sequential([\n",
        "      feature_extraction_layer,         # base of our model\n",
        "      layers.Dense(num_classes, activation='softmax', name='output_layer')\n",
        "  ])\n",
        "\n",
        "  return model"
      ],
      "metadata": {
        "id": "-YVvQS-Yz8LR"
      },
      "execution_count": 9,
      "outputs": []
    },
    {
      "cell_type": "code",
      "source": [],
      "metadata": {
        "id": "ICzDY_2T2AAc"
      },
      "execution_count": 9,
      "outputs": []
    },
    {
      "cell_type": "markdown",
      "source": [
        "## Create ResNet pretrained models\n",
        "\n",
        "Now that we have helper function, lets begin wih ResNet model. Build the model, compile and fit"
      ],
      "metadata": {
        "id": "uRMg7DYO2Kmt"
      }
    },
    {
      "cell_type": "code",
      "source": [
        "resnet_model = create_model(resnet_v1_url, train_data.num_classes)\n",
        "resnet_model.compile(optimizer=tf.keras.optimizers.Adam(),\n",
        "                     loss='categorical_crossentropy',\n",
        "                     metrics='accuracy')"
      ],
      "metadata": {
        "id": "fP99SKn22kRU"
      },
      "execution_count": 10,
      "outputs": []
    },
    {
      "cell_type": "code",
      "source": [
        "# train the model\n",
        "resnet_history = resnet_model.fit(train_data,\n",
        "                                  epochs=5,\n",
        "                                  validation_data=test_data,\n",
        "                                  callbacks=[create_tensorboard_callback(\"tensorboard_hub\", \"renet50-v1\")]\n",
        "                                  )"
      ],
      "metadata": {
        "colab": {
          "base_uri": "https://localhost:8080/"
        },
        "id": "1kgO8KXc2--a",
        "outputId": "14c821a9-e6fa-4b69-b556-b26b112f3486"
      },
      "execution_count": 11,
      "outputs": [
        {
          "output_type": "stream",
          "name": "stdout",
          "text": [
            "Saving TensorBoard logs to tensorboard_hub/renet50-v1/20221201-084914\n",
            "Epoch 1/5\n",
            "24/24 [==============================] - 867s 37s/step - loss: 2.0382 - accuracy: 0.3493 - val_loss: 1.2395 - val_accuracy: 0.5984\n",
            "Epoch 2/5\n",
            "24/24 [==============================] - 21s 898ms/step - loss: 0.8915 - accuracy: 0.7107 - val_loss: 0.8594 - val_accuracy: 0.7040\n",
            "Epoch 3/5\n",
            "24/24 [==============================] - 21s 890ms/step - loss: 0.6138 - accuracy: 0.8067 - val_loss: 0.7643 - val_accuracy: 0.7472\n",
            "Epoch 4/5\n",
            "24/24 [==============================] - 21s 890ms/step - loss: 0.4456 - accuracy: 0.8773 - val_loss: 0.6913 - val_accuracy: 0.7696\n",
            "Epoch 5/5\n",
            "24/24 [==============================] - 21s 889ms/step - loss: 0.3499 - accuracy: 0.9200 - val_loss: 0.6690 - val_accuracy: 0.7772\n"
          ]
        }
      ]
    },
    {
      "cell_type": "code",
      "source": [
        "# If you wanted to, you could really turn this into a helper function to load in with a helper.py script...\n",
        "import matplotlib.pyplot as plt\n",
        "\n",
        "# Plot the validation and training data separately\n",
        "def plot_loss_curves(history):\n",
        "  \"\"\"\n",
        "  Returns separate loss curves for training and validation metrics.\n",
        "  \"\"\" \n",
        "  loss = history.history['loss']\n",
        "  val_loss = history.history['val_loss']\n",
        "\n",
        "  accuracy = history.history['accuracy']\n",
        "  val_accuracy = history.history['val_accuracy']\n",
        "\n",
        "  epochs = range(len(history.history['loss']))\n",
        "\n",
        "  # Plot loss\n",
        "  plt.plot(epochs, loss, label='training_loss')\n",
        "  plt.plot(epochs, val_loss, label='val_loss')\n",
        "  plt.title('Loss')\n",
        "  plt.xlabel('Epochs')\n",
        "  plt.legend()\n",
        "\n",
        "  # Plot accuracy\n",
        "  plt.figure()\n",
        "  plt.plot(epochs, accuracy, label='training_accuracy')\n",
        "  plt.plot(epochs, val_accuracy, label='val_accuracy')\n",
        "  plt.title('Accuracy')\n",
        "  plt.xlabel('Epochs')\n",
        "  plt.legend();"
      ],
      "metadata": {
        "id": "gkq3RCU1334N"
      },
      "execution_count": 13,
      "outputs": []
    },
    {
      "cell_type": "code",
      "source": [
        "plot_loss_curves(resnet_history)"
      ],
      "metadata": {
        "colab": {
          "base_uri": "https://localhost:8080/",
          "height": 573
        },
        "id": "0GGXFLL8A2dj",
        "outputId": "e914b4dd-149f-41b5-a1f0-ea1960c8738b"
      },
      "execution_count": 14,
      "outputs": [
        {
          "output_type": "display_data",
          "data": {
            "text/plain": [
              "<Figure size 432x288 with 1 Axes>"
            ],
            "image/png": "[encoded data removed]"
          },
          "metadata": {
            "needs_background": "light"
          }
        },
        {
          "output_type": "display_data",
          "data": {
            "text/plain": [
              "<Figure size 432x288 with 1 Axes>"
            ],
            "image/png": "[encoded data removed]"
          },
          "metadata": {
            "needs_background": "light"
          }
        }
      ]
    },
    {
      "cell_type": "code",
      "source": [
        "resnet_model.summary()"
      ],
      "metadata": {
        "colab": {
          "base_uri": "https://localhost:8080/"
        },
        "id": "-qtxo12GDxjf",
        "outputId": "6f68c065-6a47-460b-efc3-acfe388588f4"
      },
      "execution_count": 23,
      "outputs": [
        {
          "output_type": "stream",
          "name": "stdout",
          "text": [
            "Model: \"sequential\"\n",
            "_________________________________________________________________\n",
            " Layer (type)                Output Shape              Param #   \n",
            "=================================================================\n",
            " feature_extraction_layer (K  (None, 2048)             42605504  \n",
            " erasLayer)                                                      \n",
            "                                                                 \n",
            " output_layer (Dense)        (None, 10)                20490     \n",
            "                                                                 \n",
            "=================================================================\n",
            "Total params: 42,625,994\n",
            "Trainable params: 20,490\n",
            "Non-trainable params: 42,605,504\n",
            "_________________________________________________________________\n"
          ]
        }
      ]
    },
    {
      "cell_type": "markdown",
      "source": [
        "## Create pretrained Efficient model"
      ],
      "metadata": {
        "id": "UR5Hx0saA5be"
      }
    },
    {
      "cell_type": "code",
      "source": [
        "effnet_model = create_model(efficient_model_url, train_data.num_classes)\n",
        "effnet_model.compile(optimizer=tf.keras.optimizers.Adam(),\n",
        "                     loss='categorical_crossentropy',\n",
        "                     metrics='accuracy')"
      ],
      "metadata": {
        "id": "kot8DQSmBH_6"
      },
      "execution_count": 17,
      "outputs": []
    },
    {
      "cell_type": "code",
      "source": [
        "# fit the model\n",
        "# train the model\n",
        "efnet_history = effnet_model.fit(train_data,\n",
        "                                  epochs=5,\n",
        "                                  validation_data=test_data,\n",
        "                                  callbacks=[create_tensorboard_callback(\"tensorboard_hub\", \"efficientnet-b0\")]\n",
        "                                  )"
      ],
      "metadata": {
        "colab": {
          "base_uri": "https://localhost:8080/"
        },
        "id": "mWO4K5n8BSMa",
        "outputId": "ebda4723-1ad0-4236-9355-c744066bfa6d"
      },
      "execution_count": 21,
      "outputs": [
        {
          "output_type": "stream",
          "name": "stdout",
          "text": [
            "Saving TensorBoard logs to tensorboard_hub/efficientnet-b0/20221201-093805\n",
            "Epoch 1/5\n",
            "24/24 [==============================] - 30s 930ms/step - loss: 1.7826 - accuracy: 0.4867 - val_loss: 1.2523 - val_accuracy: 0.7488\n",
            "Epoch 2/5\n",
            "24/24 [==============================] - 19s 811ms/step - loss: 1.0384 - accuracy: 0.7667 - val_loss: 0.8491 - val_accuracy: 0.8276\n",
            "Epoch 3/5\n",
            "24/24 [==============================] - 19s 818ms/step - loss: 0.7477 - accuracy: 0.8347 - val_loss: 0.6848 - val_accuracy: 0.8500\n",
            "Epoch 4/5\n",
            "24/24 [==============================] - 19s 824ms/step - loss: 0.6008 - accuracy: 0.8640 - val_loss: 0.6019 - val_accuracy: 0.8608\n",
            "Epoch 5/5\n",
            "24/24 [==============================] - 19s 830ms/step - loss: 0.5099 - accuracy: 0.8800 - val_loss: 0.5481 - val_accuracy: 0.8676\n"
          ]
        }
      ]
    },
    {
      "cell_type": "code",
      "source": [
        "plot_loss_curves(efnet_history)"
      ],
      "metadata": {
        "colab": {
          "base_uri": "https://localhost:8080/",
          "height": 573
        },
        "id": "IAuILLYHBf1k",
        "outputId": "95be7d7a-0e41-4eac-f535-007d9302f615"
      },
      "execution_count": 22,
      "outputs": [
        {
          "output_type": "display_data",
          "data": {
            "text/plain": [
              "<Figure size 432x288 with 1 Axes>"
            ],
            "image/png": "[encoded data removed]"
          },
          "metadata": {
            "needs_background": "light"
          }
        },
        {
          "output_type": "display_data",
          "data": {
            "text/plain": [
              "<Figure size 432x288 with 1 Axes>"
            ],
            "image/png": "[encoded data removed]"
          },
          "metadata": {
            "needs_background": "light"
          }
        }
      ]
    },
    {
      "cell_type": "code",
      "source": [
        "effnet_model.summary()"
      ],
      "metadata": {
        "colab": {
          "base_uri": "https://localhost:8080/"
        },
        "id": "XRlta33TC4Lj",
        "outputId": "50142109-4701-4226-885b-9af53b089023"
      },
      "execution_count": 24,
      "outputs": [
        {
          "output_type": "stream",
          "name": "stdout",
          "text": [
            "Model: \"sequential_2\"\n",
            "_________________________________________________________________\n",
            " Layer (type)                Output Shape              Param #   \n",
            "=================================================================\n",
            " feature_extraction_layer (K  (None, 1280)             4049564   \n",
            " erasLayer)                                                      \n",
            "                                                                 \n",
            " output_layer (Dense)        (None, 10)                12810     \n",
            "                                                                 \n",
            "=================================================================\n",
            "Total params: 4,062,374\n",
            "Trainable params: 12,810\n",
            "Non-trainable params: 4,049,564\n",
            "_________________________________________________________________\n"
          ]
        }
      ]
    },
    {
      "cell_type": "code",
      "source": [
        "# Upload tensorboard data to tensorboard\n",
        "!tensorboard dev upload --logdir ./tensorboard_hub --name \"EfficientNetB0 vs ResNet v1\" --description \"Comparing two pretrained models\" --one_shot"
      ],
      "metadata": {
        "colab": {
          "base_uri": "https://localhost:8080/"
        },
        "id": "eb1u5dAQD5l1",
        "outputId": "4f756a0e-0d93-40b8-98c9-dc3a6339e8c6"
      },
      "execution_count": 25,
      "outputs": [
        {
          "output_type": "stream",
          "name": "stdout",
          "text": [
            "\n",
            "***** TensorBoard Uploader *****\n",
            "\n",
            "This will upload your TensorBoard logs to https://tensorboard.dev/ from\n",
            "the following directory:\n",
            "\n",
            "./tensorboard_hub\n",
            "\n",
            "This TensorBoard will be visible to everyone. Do not upload sensitive\n",
            "data.\n",
            "\n",
            "Your use of this service is subject to Google's Terms of Service\n",
            "<https://policies.google.com/terms> and Privacy Policy\n",
            "<https://policies.google.com/privacy>, and TensorBoard.dev's Terms of Service\n",
            "<https://tensorboard.dev/policy/terms/>.\n",
            "\n",
            "This notice will not be shown again while you are logged into the uploader.\n",
            "To log out, run `tensorboard dev auth revoke`.\n",
            "\n",
            "Continue? (yes/NO) yes\n",
            "\n",
            "Please visit this URL to authorize this application: https://accounts.google.com/o/oauth2/auth?response_type=code&client_id=373649185512-8v619h5kft38l4456nm2dj4ubeqsrvh6.apps.googleusercontent.com&redirect_uri=urn%3Aietf%3Awg%3Aoauth%3A2.0%3Aoob&scope=openid+https%3A%2F%2Fwww.googleapis.com%2Fauth%2Fuserinfo.email&state=3OOf5Ucd3oMASNzLeAlb0Clb5hPQ4q&prompt=consent&access_type=offline\n",
            "Enter the authorization code: 4/1AfgeXvu3N-4PYIMwumUoRCizc4UMYGFfIYm_xd1dbq1BLtHg8rvrlM3k9zM\n",
            "\n",
            "\n",
            "New experiment created. View your TensorBoard at: https://tensorboard.dev/experiment/PC78gprvT0qkNdeC0UJL1Q/\n",
            "\n",
            "\u001b[1m[2022-12-01T09:46:58]\u001b[0m Started scanning logdir.\n",
            "\u001b[1m[2022-12-01T09:47:00]\u001b[0m Total uploaded: 60 scalars, 0 tensors, 2 binary objects (7.2 MB)\n",
            "\u001b[1m[2022-12-01T09:47:00]\u001b[0m Done scanning logdir.\n",
            "\n",
            "\n",
            "Done. View your TensorBoard at https://tensorboard.dev/experiment/PC78gprvT0qkNdeC0UJL1Q/\n"
          ]
        }
      ]
    },
    {
      "cell_type": "code",
      "source": [
        "!tensorboard dev list"
      ],
      "metadata": {
        "colab": {
          "base_uri": "https://localhost:8080/"
        },
        "id": "5q2EHWhIFFRp",
        "outputId": "dd027f0c-2cf8-4f9d-b39e-6013607a7fb6"
      },
      "execution_count": 27,
      "outputs": [
        {
          "output_type": "stream",
          "name": "stdout",
          "text": [
            "https://tensorboard.dev/experiment/PC78gprvT0qkNdeC0UJL1Q/\n",
            "\tName                 EfficientNetB0 vs ResNet v1\n",
            "\tDescription          Comparing two pretrained models\n",
            "\tId                   PC78gprvT0qkNdeC0UJL1Q\n",
            "\tCreated              2022-12-01 09:46:58 (3 minutes ago)\n",
            "\tUpdated              2022-12-01 09:47:00 (3 minutes ago)\n",
            "\tRuns                 4\n",
            "\tTags                 5\n",
            "\tScalars              60\n",
            "\tTensor bytes         0\n",
            "\tBinary object bytes  7498153\n",
            "Total: 1 experiment(s)\n"
          ]
        }
      ]
    },
    {
      "cell_type": "code",
      "source": [
        "!tensorboard dev delete --experiment_id PC78gprvT0qkNdeC0UJL1Q"
      ],
      "metadata": {
        "colab": {
          "base_uri": "https://localhost:8080/"
        },
        "id": "UUAZMO_oGD36",
        "outputId": "cc8346e0-d66c-42d3-add9-27cd4fc9d457"
      },
      "execution_count": 30,
      "outputs": [
        {
          "output_type": "stream",
          "name": "stdout",
          "text": [
            "Deleted experiment PC78gprvT0qkNdeC0UJL1Q.\n"
          ]
        }
      ]
    },
    {
      "cell_type": "code",
      "source": [],
      "metadata": {
        "id": "ERvUJa0cGLZs"
      },
      "execution_count": null,
      "outputs": []
    }
  ]
}